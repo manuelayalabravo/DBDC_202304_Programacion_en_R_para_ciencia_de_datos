{
  "nbformat": 4,
  "nbformat_minor": 0,
  "metadata": {
    "colab": {
      "provenance": [],
      "include_colab_link": true
    },
    "kernelspec": {
      "name": "ir",
      "display_name": "R"
    }
  },
  "cells": [
    {
      "cell_type": "markdown",
      "metadata": {
        "id": "view-in-github",
        "colab_type": "text"
      },
      "source": [
        "<a href=\"https://colab.research.google.com/github/majorquev/DBDC_202304_Programacion_en_R_para_ciencia_de_datos/blob/main/Clases/C1/Clase_1_01_variables_y_tipos_de_datos_desarrollo.ipynb\" target=\"_parent\"><img src=\"https://colab.research.google.com/assets/colab-badge.svg\" alt=\"Open In Colab\"/></a>"
      ]
    },
    {
      "cell_type": "markdown",
      "metadata": {
        "collapsed": true,
        "id": "Kc2ORhjSySMx"
      },
      "source": [
        "# Parte 1: Introducción a R\n",
        "\n",
        "**Autor:** Miguel Jorquera Viguera<br>\n",
        "**E-mail:** majorquev@gmail.com<br>\n",
        "\n",
        "**Ayudante:** Rodrigo Morales <br>\n",
        "**E-mail ayudante:** rumorale1@gmail.com\n",
        "\n",
        "## Conociendo R\n",
        "\n",
        "### Conociendo R de nuevo\n",
        " R es un lenguaje funcional orientado principalmente al análisis de datos. Fue desarrollado por Ross Ihaka y Robert Gentleman, cuyas iniciales de sus nombres dieron origen al nombre de este software.\n",
        " \n",
        "Hoy existen varias maneras de ejecutar R, una de ellas es de manera local, para lo cual es posible descargar la última versión (disponible para Windows, Linux y OSX), desde el repositorio CRAN (https://cran.r-project.org/) .\n",
        "Otra manera es mediante la utilización de Google Colab, los que permiten la ejecución de R de manera remota, sin la necesidad de instalar R.\n",
        "\n",
        "En un notebook podemos añadir info.\n",
        "Podemos editar esto...\n",
        "\n",
        "# Puedo añadir otro  título\n",
        "## Subtítulo\n",
        "### Etc..\n",
        "\n",
        "Generar listas\n",
        "\n",
        "   * Hola\n",
        "   * Otra opción\n",
        "   * opcion 2\n",
        "\n",
        "Código en latex $\\sum\\limits_{i=1}^n x_i$ $\\lim_{x \\rightarrow 1}$ \n"
      ]
    },
    {
      "cell_type": "markdown",
      "metadata": {
        "id": "Z4TXkSy6ySMy"
      },
      "source": [
        "## 1. R... Una gran calculadora\n",
        "\n",
        "En R es posible ejecutar directamente en consola sentencias aritméticas simples, junto con la evaluación de una gran cantidad de funciones disponibles por defecto.\n",
        "\n",
        "    - + , -, /,* ,^ , %%, %*%.\n",
        "    - Logaritmo natural: log() \n",
        "    - Funciones trigonométricas: sin() , cos(), tan(), asin() ,acos(), atan()\n",
        "    - Función exponencial: exp() \n",
        "    - Raiz cuadrada: sqrt().\n",
        "    - Valor absoluto: abs()\n",
        "    - parte entera: floor()\n",
        "    - Truncar: trunc()\n",
        "    - Redondear: round(,)\n",
        "    - Factorial: factorial()\n",
        "    - Número combinatorio: choose(n,k)\n"
      ]
    },
    {
      "cell_type": "code",
      "metadata": {
        "id": "O4E1j5ngySMz",
        "colab": {
          "base_uri": "https://localhost:8080/",
          "height": 33
        },
        "outputId": "eb23d08d-d95c-4038-b2cf-4a7e72baeab2"
      },
      "source": [
        "# En estas celdas pueden ejecutar código R. Las líneas que comiencen con '#' corresponden a comentarios y por ende no son ejecutables\n",
        "# Shift + Enter : ejecuta el código de la celda y pasan a la celda siguiente.\n",
        "\n"
      ],
      "execution_count": null,
      "outputs": [
        {
          "output_type": "display_data",
          "data": {
            "text/plain": [
              "[1] 3"
            ],
            "text/latex": "3",
            "text/markdown": "3",
            "text/html": [
              "3"
            ]
          },
          "metadata": {
            "tags": []
          }
        }
      ]
    },
    {
      "cell_type": "markdown",
      "metadata": {
        "id": "fvcIxMW4ySM5"
      },
      "source": [
        "## 2. Variables y tipos de datos\n",
        "\n",
        "En R es posible distintos tipos de datos u objetos en símbolos llamados variables (en R todo es en esencia un objeto).<br>\n",
        "La manera más sencilla de asignar un objeto a una variable es mediante la función \"<-\". Los tipos de datos más utilizados en R corresponden a :\n",
        "    \n",
        "    integer   \n",
        "    double  \n",
        "    logical   \n",
        "    character \n",
        "    factor  \n",
        "    date\n",
        "\n",
        "A diferencia de otros lenguajes de programación, no es necesario declarar explicitamente el tipo de dato que almacenará una variable (R es inteligente!)"
      ]
    },
    {
      "cell_type": "code",
      "metadata": {
        "id": "LUgwYSvMySM5",
        "cellView": "both"
      },
      "source": [
        "# Podemos definir distintas variables\n",
        "a <- 10\n",
        "b <- 8.5"
      ],
      "execution_count": 2,
      "outputs": []
    },
    {
      "cell_type": "code",
      "source": [
        "c = 14"
      ],
      "metadata": {
        "id": "4lyr9Qhy_vZs"
      },
      "execution_count": 3,
      "outputs": []
    },
    {
      "cell_type": "code",
      "source": [
        "((1+5)*9)/7 -> resultado"
      ],
      "metadata": {
        "id": "5O4TLWBHAIUZ"
      },
      "execution_count": 5,
      "outputs": []
    },
    {
      "cell_type": "code",
      "source": [
        "resultado"
      ],
      "metadata": {
        "id": "x6fzYQqzARJE",
        "outputId": "9b18ca23-dcf0-443e-8e36-f0fda5f5f064",
        "colab": {
          "base_uri": "https://localhost:8080/",
          "height": 34
        }
      },
      "execution_count": 6,
      "outputs": [
        {
          "output_type": "display_data",
          "data": {
            "text/html": [
              "7.71428571428571"
            ],
            "text/markdown": "7.71428571428571",
            "text/latex": "7.71428571428571",
            "text/plain": [
              "[1] 7.714286"
            ]
          },
          "metadata": {}
        }
      ]
    },
    {
      "cell_type": "code",
      "source": [
        "a+c"
      ],
      "metadata": {
        "id": "mUdzfu1u_xCg",
        "outputId": "3ef754d6-0c66-4eb5-8420-98479cfc84fe",
        "colab": {
          "base_uri": "https://localhost:8080/",
          "height": 34
        }
      },
      "execution_count": 4,
      "outputs": [
        {
          "output_type": "display_data",
          "data": {
            "text/html": [
              "24"
            ],
            "text/markdown": "24",
            "text/latex": "24",
            "text/plain": [
              "[1] 24"
            ]
          },
          "metadata": {}
        }
      ]
    },
    {
      "cell_type": "code",
      "metadata": {
        "id": "2lqK4mChySM-",
        "outputId": "8e6f7f84-a732-42e1-bab8-3c7660a8e5db",
        "colab": {
          "base_uri": "https://localhost:8080/",
          "height": 34
        }
      },
      "source": [
        "# strings(character)\n",
        "fr1 <- \"Hola soy miguel\"\n",
        "paste(fr1,\"su profesor\")"
      ],
      "execution_count": 8,
      "outputs": [
        {
          "output_type": "display_data",
          "data": {
            "text/html": [
              "'Hola soy miguel su profesor'"
            ],
            "text/markdown": "'Hola soy miguel su profesor'",
            "text/latex": "'Hola soy miguel su profesor'",
            "text/plain": [
              "[1] \"Hola soy miguel su profesor\""
            ]
          },
          "metadata": {}
        }
      ]
    },
    {
      "cell_type": "code",
      "source": [
        "paste0(fr1,\"su profesor\")"
      ],
      "metadata": {
        "id": "-tXK22myA-fE",
        "outputId": "57625f79-b659-43bf-88f4-fabdc53081ed",
        "colab": {
          "base_uri": "https://localhost:8080/",
          "height": 34
        }
      },
      "execution_count": 11,
      "outputs": [
        {
          "output_type": "display_data",
          "data": {
            "text/html": [
              "'Hola soy miguelsu profesor'"
            ],
            "text/markdown": "'Hola soy miguelsu profesor'",
            "text/latex": "'Hola soy miguelsu profesor'",
            "text/plain": [
              "[1] \"Hola soy miguelsu profesor\""
            ]
          },
          "metadata": {}
        }
      ]
    },
    {
      "cell_type": "code",
      "source": [
        "paste(fr1,\"su profesor\", sep = \"\")"
      ],
      "metadata": {
        "id": "FD4cJAmIBCCo",
        "outputId": "8b8d84ce-4a27-4bdf-f5ed-8ce1b5db8498",
        "colab": {
          "base_uri": "https://localhost:8080/",
          "height": 34
        }
      },
      "execution_count": 12,
      "outputs": [
        {
          "output_type": "display_data",
          "data": {
            "text/html": [
              "'Hola soy miguelsu profesor'"
            ],
            "text/markdown": "'Hola soy miguelsu profesor'",
            "text/latex": "'Hola soy miguelsu profesor'",
            "text/plain": [
              "[1] \"Hola soy miguelsu profesor\""
            ]
          },
          "metadata": {}
        }
      ]
    },
    {
      "cell_type": "code",
      "source": [
        "?paste"
      ],
      "metadata": {
        "id": "PiA5Nw68ArGr"
      },
      "execution_count": 9,
      "outputs": []
    },
    {
      "cell_type": "code",
      "source": [
        "paste(fr1,\"su profesor\", sep = \"-\")"
      ],
      "metadata": {
        "id": "jXOmB-mhA4fB",
        "outputId": "c06a9c5f-a7a2-411c-8714-1802198c5d45",
        "colab": {
          "base_uri": "https://localhost:8080/",
          "height": 34
        }
      },
      "execution_count": 10,
      "outputs": [
        {
          "output_type": "display_data",
          "data": {
            "text/html": [
              "'Hola soy miguel-su profesor'"
            ],
            "text/markdown": "'Hola soy miguel-su profesor'",
            "text/latex": "'Hola soy miguel-su profesor'",
            "text/plain": [
              "[1] \"Hola soy miguel-su profesor\""
            ]
          },
          "metadata": {}
        }
      ]
    },
    {
      "cell_type": "code",
      "metadata": {
        "id": "TvnfvFZFySNC",
        "outputId": "91e979e8-354c-411c-d40d-24931af72d00",
        "colab": {
          "base_uri": "https://localhost:8080/",
          "height": 52
        }
      },
      "source": [
        "# valores lógicos (logical)\n",
        "TRUE #T es lo mismo\n",
        "FALSE # F es lo mismo"
      ],
      "execution_count": 14,
      "outputs": [
        {
          "output_type": "display_data",
          "data": {
            "text/html": [
              "TRUE"
            ],
            "text/markdown": "TRUE",
            "text/latex": "TRUE",
            "text/plain": [
              "[1] TRUE"
            ]
          },
          "metadata": {}
        },
        {
          "output_type": "display_data",
          "data": {
            "text/html": [
              "FALSE"
            ],
            "text/markdown": "FALSE",
            "text/latex": "FALSE",
            "text/plain": [
              "[1] FALSE"
            ]
          },
          "metadata": {}
        }
      ]
    },
    {
      "cell_type": "code",
      "source": [
        "verdad <- T\n",
        "falso <- F"
      ],
      "metadata": {
        "id": "vpNS-RFUBYBP"
      },
      "execution_count": 16,
      "outputs": []
    },
    {
      "cell_type": "code",
      "metadata": {
        "id": "n-cknpq2N1UO",
        "outputId": "5b495576-95b6-41f8-a726-ff8382c0e1b2",
        "colab": {
          "base_uri": "https://localhost:8080/",
          "height": 52
        }
      },
      "source": [
        "# conector lógicos ( & es el \"y\", | es el \"o\", ! corresponde a la negación )\n",
        "verdad & falso #conjunción \"y\"\n",
        "verdad | falso #disyunción \"o\""
      ],
      "execution_count": 17,
      "outputs": [
        {
          "output_type": "display_data",
          "data": {
            "text/html": [
              "FALSE"
            ],
            "text/markdown": "FALSE",
            "text/latex": "FALSE",
            "text/plain": [
              "[1] FALSE"
            ]
          },
          "metadata": {}
        },
        {
          "output_type": "display_data",
          "data": {
            "text/html": [
              "TRUE"
            ],
            "text/markdown": "TRUE",
            "text/latex": "TRUE",
            "text/plain": [
              "[1] TRUE"
            ]
          },
          "metadata": {}
        }
      ]
    },
    {
      "cell_type": "code",
      "source": [],
      "metadata": {
        "id": "OUIiz2A6NfEx"
      },
      "execution_count": null,
      "outputs": []
    },
    {
      "cell_type": "code",
      "source": [],
      "metadata": {
        "id": "HKCetkMUBxzb"
      },
      "execution_count": null,
      "outputs": []
    },
    {
      "cell_type": "code",
      "metadata": {
        "id": "5TaXp2j8ySNK",
        "outputId": "3834acb5-6b36-49c6-dbed-b0b8ee8f256b",
        "colab": {
          "base_uri": "https://localhost:8080/",
          "height": 52
        }
      },
      "source": [
        "# Podemos comparar la igualdad lógica entre dos valores mendiante \"==\"\n",
        "1+1 == 3\n",
        "sqrt(4) == 2"
      ],
      "execution_count": 19,
      "outputs": [
        {
          "output_type": "display_data",
          "data": {
            "text/html": [
              "FALSE"
            ],
            "text/markdown": "FALSE",
            "text/latex": "FALSE",
            "text/plain": [
              "[1] FALSE"
            ]
          },
          "metadata": {}
        },
        {
          "output_type": "display_data",
          "data": {
            "text/html": [
              "TRUE"
            ],
            "text/markdown": "TRUE",
            "text/latex": "TRUE",
            "text/plain": [
              "[1] TRUE"
            ]
          },
          "metadata": {}
        }
      ]
    },
    {
      "cell_type": "code",
      "metadata": {
        "id": "3mq1eAigySNN",
        "outputId": "4640ab6c-b120-41cf-9d0c-9772c58edc2f",
        "colab": {
          "base_uri": "https://localhost:8080/",
          "height": 52
        }
      },
      "source": [
        "# Podemos evaluar la no igualdad con \"!=\" (es distinto de)\n",
        "3!=3\n",
        "2!=-1\n",
        "\n",
        "\n"
      ],
      "execution_count": 21,
      "outputs": [
        {
          "output_type": "display_data",
          "data": {
            "text/html": [
              "FALSE"
            ],
            "text/markdown": "FALSE",
            "text/latex": "FALSE",
            "text/plain": [
              "[1] FALSE"
            ]
          },
          "metadata": {}
        },
        {
          "output_type": "display_data",
          "data": {
            "text/html": [
              "TRUE"
            ],
            "text/markdown": "TRUE",
            "text/latex": "TRUE",
            "text/plain": [
              "[1] TRUE"
            ]
          },
          "metadata": {}
        }
      ]
    },
    {
      "cell_type": "code",
      "metadata": {
        "id": "crOp1-6HySNP",
        "outputId": "48599424-3183-494a-a544-d0be2b2d9125",
        "colab": {
          "base_uri": "https://localhost:8080/",
          "height": 69
        }
      },
      "source": [
        "# podemos realizar comparaciones aritméticas\n",
        "18 > 12\n",
        "12 <= 12\n",
        "-1 > 5"
      ],
      "execution_count": 24,
      "outputs": [
        {
          "output_type": "display_data",
          "data": {
            "text/html": [
              "TRUE"
            ],
            "text/markdown": "TRUE",
            "text/latex": "TRUE",
            "text/plain": [
              "[1] TRUE"
            ]
          },
          "metadata": {}
        },
        {
          "output_type": "display_data",
          "data": {
            "text/html": [
              "TRUE"
            ],
            "text/markdown": "TRUE",
            "text/latex": "TRUE",
            "text/plain": [
              "[1] TRUE"
            ]
          },
          "metadata": {}
        },
        {
          "output_type": "display_data",
          "data": {
            "text/html": [
              "FALSE"
            ],
            "text/markdown": "FALSE",
            "text/latex": "FALSE",
            "text/plain": [
              "[1] FALSE"
            ]
          },
          "metadata": {}
        }
      ]
    },
    {
      "cell_type": "code",
      "metadata": {
        "id": "HZ9EQNrQySNS",
        "outputId": "66602805-32b7-47e7-c901-7122b15e0caf",
        "colab": {
          "base_uri": "https://localhost:8080/",
          "height": 104
        }
      },
      "source": [
        "# NOTA:valor infinito\n",
        "1000000000000000000000000000000000000000000 > Inf\n",
        "1/Inf\n",
        "\n",
        "0*Inf\n",
        "1/0\n",
        "0/0"
      ],
      "execution_count": 35,
      "outputs": [
        {
          "output_type": "display_data",
          "data": {
            "text/html": [
              "FALSE"
            ],
            "text/markdown": "FALSE",
            "text/latex": "FALSE",
            "text/plain": [
              "[1] FALSE"
            ]
          },
          "metadata": {}
        },
        {
          "output_type": "display_data",
          "data": {
            "text/html": [
              "0"
            ],
            "text/markdown": "0",
            "text/latex": "0",
            "text/plain": [
              "[1] 0"
            ]
          },
          "metadata": {}
        },
        {
          "output_type": "display_data",
          "data": {
            "text/html": [
              "NaN"
            ],
            "text/markdown": "NaN",
            "text/latex": "NaN",
            "text/plain": [
              "[1] NaN"
            ]
          },
          "metadata": {}
        },
        {
          "output_type": "display_data",
          "data": {
            "text/html": [
              "Inf"
            ],
            "text/markdown": "Inf",
            "text/latex": "Inf",
            "text/plain": [
              "[1] Inf"
            ]
          },
          "metadata": {}
        },
        {
          "output_type": "display_data",
          "data": {
            "text/html": [
              "NaN"
            ],
            "text/markdown": "NaN",
            "text/latex": "NaN",
            "text/plain": [
              "[1] NaN"
            ]
          },
          "metadata": {}
        }
      ]
    },
    {
      "cell_type": "code",
      "source": [
        "aux <- NA\n",
        "aux2 <- NaN\n",
        "aux3 <- NULL"
      ],
      "metadata": {
        "id": "2IjA4QvFC1nG"
      },
      "execution_count": 30,
      "outputs": []
    },
    {
      "cell_type": "code",
      "source": [
        "aux\n",
        "aux2\n",
        "aux3"
      ],
      "metadata": {
        "id": "CD2LIqRpC9nt",
        "outputId": "0e8001a4-47f5-4735-d74e-bba665ea3f95",
        "colab": {
          "base_uri": "https://localhost:8080/",
          "height": 69
        }
      },
      "execution_count": 33,
      "outputs": [
        {
          "output_type": "display_data",
          "data": {
            "text/html": [
              "&lt;NA&gt;"
            ],
            "text/markdown": "&lt;NA&gt;",
            "text/latex": "<NA>",
            "text/plain": [
              "[1] NA"
            ]
          },
          "metadata": {}
        },
        {
          "output_type": "display_data",
          "data": {
            "text/html": [
              "NaN"
            ],
            "text/markdown": "NaN",
            "text/latex": "NaN",
            "text/plain": [
              "[1] NaN"
            ]
          },
          "metadata": {}
        },
        {
          "output_type": "display_data",
          "data": {
            "text/plain": [
              "NULL"
            ]
          },
          "metadata": {}
        }
      ]
    },
    {
      "cell_type": "code",
      "metadata": {
        "id": "ujQiJGcbySNe",
        "outputId": "3e51a78f-d33c-458a-e56c-4f8484f7dddc",
        "colab": {
          "base_uri": "https://localhost:8080/",
          "height": 121
        }
      },
      "source": [
        "# date\n",
        "\n",
        "# NOTA: podemos preguntarnos por la clase del dato almacenado en una variable\n",
        "class(a)\n",
        "typeof(a)\n",
        "\n",
        "class(aux)\n",
        "typeof(aux)\n",
        "\n",
        "class(verdad)\n",
        "typeof(verdad)\n",
        "\n",
        "# coercionamos a clase date\n",
        "\n"
      ],
      "execution_count": 41,
      "outputs": [
        {
          "output_type": "display_data",
          "data": {
            "text/html": [
              "'numeric'"
            ],
            "text/markdown": "'numeric'",
            "text/latex": "'numeric'",
            "text/plain": [
              "[1] \"numeric\""
            ]
          },
          "metadata": {}
        },
        {
          "output_type": "display_data",
          "data": {
            "text/html": [
              "'double'"
            ],
            "text/markdown": "'double'",
            "text/latex": "'double'",
            "text/plain": [
              "[1] \"double\""
            ]
          },
          "metadata": {}
        },
        {
          "output_type": "display_data",
          "data": {
            "text/html": [
              "'logical'"
            ],
            "text/markdown": "'logical'",
            "text/latex": "'logical'",
            "text/plain": [
              "[1] \"logical\""
            ]
          },
          "metadata": {}
        },
        {
          "output_type": "display_data",
          "data": {
            "text/html": [
              "'logical'"
            ],
            "text/markdown": "'logical'",
            "text/latex": "'logical'",
            "text/plain": [
              "[1] \"logical\""
            ]
          },
          "metadata": {}
        },
        {
          "output_type": "display_data",
          "data": {
            "text/html": [
              "'logical'"
            ],
            "text/markdown": "'logical'",
            "text/latex": "'logical'",
            "text/plain": [
              "[1] \"logical\""
            ]
          },
          "metadata": {}
        },
        {
          "output_type": "display_data",
          "data": {
            "text/html": [
              "'logical'"
            ],
            "text/markdown": "'logical'",
            "text/latex": "'logical'",
            "text/plain": [
              "[1] \"logical\""
            ]
          },
          "metadata": {}
        }
      ]
    },
    {
      "cell_type": "code",
      "metadata": {
        "id": "IuoyidKOySNn"
      },
      "source": [
        "# Observación: Inmutabilidad de variables en R.\n",
        "x <- 10\n",
        "y <- x"
      ],
      "execution_count": 43,
      "outputs": []
    },
    {
      "cell_type": "code",
      "source": [
        "x <- 11"
      ],
      "metadata": {
        "id": "0eZIJ-iSGaGA"
      },
      "execution_count": 44,
      "outputs": []
    },
    {
      "cell_type": "code",
      "metadata": {
        "id": "9Fao-xGlySNr",
        "outputId": "c89d4e58-1878-4278-c60c-c068de313366",
        "colab": {
          "base_uri": "https://localhost:8080/",
          "height": 34
        }
      },
      "source": [
        "# ¿Qué valor tiene y?\n",
        "y\n",
        "# en R las asignaciones por defecto se realizan por valor y no por referencia. \n",
        "\n",
        "\n",
        "\n"
      ],
      "execution_count": 45,
      "outputs": [
        {
          "output_type": "display_data",
          "data": {
            "text/html": [
              "10"
            ],
            "text/markdown": "10",
            "text/latex": "10",
            "text/plain": [
              "[1] 10"
            ]
          },
          "metadata": {}
        }
      ]
    },
    {
      "cell_type": "code",
      "source": [
        "y <- x\n",
        "y"
      ],
      "metadata": {
        "id": "EMJ7Zvh8G5k-",
        "outputId": "8789b71f-3880-4a64-ba27-46a0b535cc65",
        "colab": {
          "base_uri": "https://localhost:8080/",
          "height": 34
        }
      },
      "execution_count": 46,
      "outputs": [
        {
          "output_type": "display_data",
          "data": {
            "text/html": [
              "11"
            ],
            "text/markdown": "11",
            "text/latex": "11",
            "text/plain": [
              "[1] 11"
            ]
          },
          "metadata": {}
        }
      ]
    },
    {
      "cell_type": "markdown",
      "metadata": {
        "id": "tDPGo6PyySNu"
      },
      "source": [
        "### Observación:\n",
        "\n",
        "   1. Cada vez que se define una variable en R, esta queda almacenada en memoria. Una manera de limpiar las variables que se han definido en memoria, es a través de la función rm().\n",
        "   2. Documentación de R. Cada vez que se quiera acceder a la documentación de una librería o función en particular, se puede tipear \"?\" o \"help()\".\n",
        "   3. Cada vez que se define una nueva variable con el mismo nombre, esta simplemente actualiza su valor.\n",
        "    "
      ]
    },
    {
      "cell_type": "code",
      "metadata": {
        "id": "EHevI0LlySNv",
        "outputId": "03ff2315-085f-4841-f675-ebb2fb5ae720",
        "colab": {
          "base_uri": "https://localhost:8080/",
          "height": 34
        }
      },
      "source": [
        "ls() # retorna un vector con los nombres de todas las variables definidas en el ambiente"
      ],
      "execution_count": 48,
      "outputs": [
        {
          "output_type": "display_data",
          "data": {
            "text/html": [
              "<style>\n",
              ".list-inline {list-style: none; margin:0; padding: 0}\n",
              ".list-inline>li {display: inline-block}\n",
              ".list-inline>li:not(:last-child)::after {content: \"\\00b7\"; padding: 0 .5ex}\n",
              "</style>\n",
              "<ol class=list-inline><li>'a'</li><li>'aux'</li><li>'aux2'</li><li>'aux3'</li><li>'b'</li><li>'c'</li><li>'falso'</li><li>'fr1'</li><li>'resultado'</li><li>'verdad'</li><li>'x'</li><li>'y'</li></ol>\n"
            ],
            "text/markdown": "1. 'a'\n2. 'aux'\n3. 'aux2'\n4. 'aux3'\n5. 'b'\n6. 'c'\n7. 'falso'\n8. 'fr1'\n9. 'resultado'\n10. 'verdad'\n11. 'x'\n12. 'y'\n\n\n",
            "text/latex": "\\begin{enumerate*}\n\\item 'a'\n\\item 'aux'\n\\item 'aux2'\n\\item 'aux3'\n\\item 'b'\n\\item 'c'\n\\item 'falso'\n\\item 'fr1'\n\\item 'resultado'\n\\item 'verdad'\n\\item 'x'\n\\item 'y'\n\\end{enumerate*}\n",
            "text/plain": [
              " [1] \"a\"         \"aux\"       \"aux2\"      \"aux3\"      \"b\"         \"c\"        \n",
              " [7] \"falso\"     \"fr1\"       \"resultado\" \"verdad\"    \"x\"         \"y\"        "
            ]
          },
          "metadata": {}
        }
      ]
    },
    {
      "cell_type": "code",
      "source": [
        "a"
      ],
      "metadata": {
        "id": "bX_6FKqlKdOo",
        "outputId": "08e9a0b8-7e4e-4ef3-8b10-527a18b6cc4d",
        "colab": {
          "base_uri": "https://localhost:8080/",
          "height": 34
        }
      },
      "execution_count": 47,
      "outputs": [
        {
          "output_type": "display_data",
          "data": {
            "text/html": [
              "10"
            ],
            "text/markdown": "10",
            "text/latex": "10",
            "text/plain": [
              "[1] 10"
            ]
          },
          "metadata": {}
        }
      ]
    },
    {
      "cell_type": "code",
      "metadata": {
        "id": "UJq0dPSIySNx"
      },
      "source": [
        "# remueva algunas de las variables generadas anteriormente\n",
        "rm(a)"
      ],
      "execution_count": 49,
      "outputs": []
    },
    {
      "cell_type": "code",
      "source": [
        "a"
      ],
      "metadata": {
        "id": "JcQxnFVZKmcf",
        "outputId": "31ffb904-a5a1-438f-b153-33b9ac87e9a0",
        "colab": {
          "base_uri": "https://localhost:8080/",
          "height": 96
        }
      },
      "execution_count": 50,
      "outputs": [
        {
          "output_type": "error",
          "ename": "ERROR",
          "evalue": "ignored",
          "traceback": [
            "Error in eval(expr, envir, enclos): object 'a' not found\nTraceback:\n"
          ]
        }
      ]
    },
    {
      "cell_type": "code",
      "source": [
        "ls()"
      ],
      "metadata": {
        "id": "l_b99O6hKpEH",
        "outputId": "a62fe0eb-7287-4646-e213-bdf2eb541d9b",
        "colab": {
          "base_uri": "https://localhost:8080/",
          "height": 34
        }
      },
      "execution_count": 51,
      "outputs": [
        {
          "output_type": "display_data",
          "data": {
            "text/html": [
              "<style>\n",
              ".list-inline {list-style: none; margin:0; padding: 0}\n",
              ".list-inline>li {display: inline-block}\n",
              ".list-inline>li:not(:last-child)::after {content: \"\\00b7\"; padding: 0 .5ex}\n",
              "</style>\n",
              "<ol class=list-inline><li>'aux'</li><li>'aux2'</li><li>'aux3'</li><li>'b'</li><li>'c'</li><li>'falso'</li><li>'fr1'</li><li>'resultado'</li><li>'verdad'</li><li>'x'</li><li>'y'</li></ol>\n"
            ],
            "text/markdown": "1. 'aux'\n2. 'aux2'\n3. 'aux3'\n4. 'b'\n5. 'c'\n6. 'falso'\n7. 'fr1'\n8. 'resultado'\n9. 'verdad'\n10. 'x'\n11. 'y'\n\n\n",
            "text/latex": "\\begin{enumerate*}\n\\item 'aux'\n\\item 'aux2'\n\\item 'aux3'\n\\item 'b'\n\\item 'c'\n\\item 'falso'\n\\item 'fr1'\n\\item 'resultado'\n\\item 'verdad'\n\\item 'x'\n\\item 'y'\n\\end{enumerate*}\n",
            "text/plain": [
              " [1] \"aux\"       \"aux2\"      \"aux3\"      \"b\"         \"c\"         \"falso\"    \n",
              " [7] \"fr1\"       \"resultado\" \"verdad\"    \"x\"         \"y\"        "
            ]
          },
          "metadata": {}
        }
      ]
    },
    {
      "cell_type": "code",
      "source": [
        "?rm"
      ],
      "metadata": {
        "id": "oBKsWxCKKrlB"
      },
      "execution_count": 52,
      "outputs": []
    },
    {
      "cell_type": "code",
      "source": [
        "#Si quiero borrar a  y b del ambiente\n",
        "rm(list = c(\"aux\",\"b\"))"
      ],
      "metadata": {
        "id": "2XnhE5qMKzqh"
      },
      "execution_count": 53,
      "outputs": []
    },
    {
      "cell_type": "code",
      "source": [
        "ls()"
      ],
      "metadata": {
        "id": "m58ox1ahK-uk",
        "outputId": "4e391dc0-8126-4ba7-9f35-dcc1894c26d7",
        "colab": {
          "base_uri": "https://localhost:8080/",
          "height": 34
        }
      },
      "execution_count": 54,
      "outputs": [
        {
          "output_type": "display_data",
          "data": {
            "text/html": [
              "<style>\n",
              ".list-inline {list-style: none; margin:0; padding: 0}\n",
              ".list-inline>li {display: inline-block}\n",
              ".list-inline>li:not(:last-child)::after {content: \"\\00b7\"; padding: 0 .5ex}\n",
              "</style>\n",
              "<ol class=list-inline><li>'aux2'</li><li>'aux3'</li><li>'c'</li><li>'falso'</li><li>'fr1'</li><li>'resultado'</li><li>'verdad'</li><li>'x'</li><li>'y'</li></ol>\n"
            ],
            "text/markdown": "1. 'aux2'\n2. 'aux3'\n3. 'c'\n4. 'falso'\n5. 'fr1'\n6. 'resultado'\n7. 'verdad'\n8. 'x'\n9. 'y'\n\n\n",
            "text/latex": "\\begin{enumerate*}\n\\item 'aux2'\n\\item 'aux3'\n\\item 'c'\n\\item 'falso'\n\\item 'fr1'\n\\item 'resultado'\n\\item 'verdad'\n\\item 'x'\n\\item 'y'\n\\end{enumerate*}\n",
            "text/plain": [
              "[1] \"aux2\"      \"aux3\"      \"c\"         \"falso\"     \"fr1\"       \"resultado\"\n",
              "[7] \"verdad\"    \"x\"         \"y\"        "
            ]
          },
          "metadata": {}
        }
      ]
    },
    {
      "cell_type": "code",
      "source": [
        "gc()# Free unused R memory"
      ],
      "metadata": {
        "id": "OzooNv5rLBEu",
        "outputId": "a04ef993-e5c7-4f53-a043-1ab8f51caa7a",
        "colab": {
          "base_uri": "https://localhost:8080/",
          "height": 129
        }
      },
      "execution_count": 55,
      "outputs": [
        {
          "output_type": "display_data",
          "data": {
            "text/html": [
              "<table class=\"dataframe\">\n",
              "<caption>A matrix: 2 × 6 of type dbl</caption>\n",
              "<thead>\n",
              "\t<tr><th></th><th scope=col>used</th><th scope=col>(Mb)</th><th scope=col>gc trigger</th><th scope=col>(Mb)</th><th scope=col>max used</th><th scope=col>(Mb)</th></tr>\n",
              "</thead>\n",
              "<tbody>\n",
              "\t<tr><th scope=row>Ncells</th><td> 680054</td><td>36.4</td><td>1362280</td><td>72.8</td><td>1362280</td><td>72.8</td></tr>\n",
              "\t<tr><th scope=row>Vcells</th><td>1267916</td><td> 9.7</td><td>8388608</td><td>64.0</td><td>1986518</td><td>15.2</td></tr>\n",
              "</tbody>\n",
              "</table>\n"
            ],
            "text/markdown": "\nA matrix: 2 × 6 of type dbl\n\n| <!--/--> | used | (Mb) | gc trigger | (Mb) | max used | (Mb) |\n|---|---|---|---|---|---|---|\n| Ncells |  680054 | 36.4 | 1362280 | 72.8 | 1362280 | 72.8 |\n| Vcells | 1267916 |  9.7 | 8388608 | 64.0 | 1986518 | 15.2 |\n\n",
            "text/latex": "A matrix: 2 × 6 of type dbl\n\\begin{tabular}{r|llllll}\n  & used & (Mb) & gc trigger & (Mb) & max used & (Mb)\\\\\n\\hline\n\tNcells &  680054 & 36.4 & 1362280 & 72.8 & 1362280 & 72.8\\\\\n\tVcells & 1267916 &  9.7 & 8388608 & 64.0 & 1986518 & 15.2\\\\\n\\end{tabular}\n",
            "text/plain": [
              "       used    (Mb) gc trigger (Mb) max used (Mb)\n",
              "Ncells  680054 36.4 1362280    72.8 1362280  72.8\n",
              "Vcells 1267916  9.7 8388608    64.0 1986518  15.2"
            ]
          },
          "metadata": {}
        }
      ]
    },
    {
      "cell_type": "markdown",
      "metadata": {
        "id": "qVG7GGScySN5"
      },
      "source": [
        "### 2.1. Missing values\n",
        "\n",
        "En R, existen tipos de datos especiales para caracterizar la ausencia o la no definición de una variable. Los valores especiales que maneja R son NA, NaN, Inf, -Inf. "
      ]
    },
    {
      "cell_type": "code",
      "metadata": {
        "id": "o60_IFkbySN5"
      },
      "source": [
        "# 2.1. Missing Values ------------\n",
        "# Acá se explica la diferencia entre ellos y cómo reconocerlos.\n",
        "#Todo NaN es NA, pero no al revés\n",
        "#NA : Not Available\n",
        "#NaN: Not a Number\n"
      ],
      "execution_count": null,
      "outputs": []
    },
    {
      "cell_type": "code",
      "metadata": {
        "id": "_rbLuRSOZ7pM"
      },
      "source": [
        "# para identificar un valor NA o NaN podemos utilizar la función is.na\n",
        "v1 <- NA\n",
        "v2 <- \"RM\"\n",
        "\n"
      ],
      "execution_count": 57,
      "outputs": []
    },
    {
      "cell_type": "code",
      "source": [
        "v2 == \"RM\""
      ],
      "metadata": {
        "id": "Lh7DK9RELk38",
        "outputId": "3cb57dd6-043f-46d4-aef5-999a30b2acd7",
        "colab": {
          "base_uri": "https://localhost:8080/",
          "height": 34
        }
      },
      "execution_count": 58,
      "outputs": [
        {
          "output_type": "display_data",
          "data": {
            "text/html": [
              "TRUE"
            ],
            "text/markdown": "TRUE",
            "text/latex": "TRUE",
            "text/plain": [
              "[1] TRUE"
            ]
          },
          "metadata": {}
        }
      ]
    },
    {
      "cell_type": "code",
      "source": [
        "v2 == NA"
      ],
      "metadata": {
        "id": "uiffIsHJLvk9",
        "outputId": "038203bd-3ea9-414b-f013-8c8f7c650aec",
        "colab": {
          "base_uri": "https://localhost:8080/",
          "height": 34
        }
      },
      "execution_count": 59,
      "outputs": [
        {
          "output_type": "display_data",
          "data": {
            "text/html": [
              "&lt;NA&gt;"
            ],
            "text/markdown": "&lt;NA&gt;",
            "text/latex": "<NA>",
            "text/plain": [
              "[1] NA"
            ]
          },
          "metadata": {}
        }
      ]
    },
    {
      "cell_type": "code",
      "source": [
        "v1 == NA"
      ],
      "metadata": {
        "id": "jQ6GeFzWL5ia",
        "outputId": "ac1e8d45-74ae-4cc7-bb0f-4481ad6c9233",
        "colab": {
          "base_uri": "https://localhost:8080/",
          "height": 34
        }
      },
      "execution_count": 60,
      "outputs": [
        {
          "output_type": "display_data",
          "data": {
            "text/html": [
              "&lt;NA&gt;"
            ],
            "text/markdown": "&lt;NA&gt;",
            "text/latex": "<NA>",
            "text/plain": [
              "[1] NA"
            ]
          },
          "metadata": {}
        }
      ]
    },
    {
      "cell_type": "code",
      "source": [
        "NA == NA"
      ],
      "metadata": {
        "id": "ES0mkuqUMDzh",
        "outputId": "a8a4f1fd-5c75-44e5-8686-6747b557c81e",
        "colab": {
          "base_uri": "https://localhost:8080/",
          "height": 34
        }
      },
      "execution_count": 61,
      "outputs": [
        {
          "output_type": "display_data",
          "data": {
            "text/html": [
              "&lt;NA&gt;"
            ],
            "text/markdown": "&lt;NA&gt;",
            "text/latex": "<NA>",
            "text/plain": [
              "[1] NA"
            ]
          },
          "metadata": {}
        }
      ]
    },
    {
      "cell_type": "code",
      "source": [
        "is.na(v2)\n",
        "is.na(v1)\n",
        "is.na(NA)\n",
        "is.na(NaN)"
      ],
      "metadata": {
        "id": "SYxUImjjMLl5",
        "outputId": "e75547c4-543c-437f-f7b7-ede42806ab5b",
        "colab": {
          "base_uri": "https://localhost:8080/",
          "height": 86
        }
      },
      "execution_count": 68,
      "outputs": [
        {
          "output_type": "display_data",
          "data": {
            "text/html": [
              "FALSE"
            ],
            "text/markdown": "FALSE",
            "text/latex": "FALSE",
            "text/plain": [
              "[1] FALSE"
            ]
          },
          "metadata": {}
        },
        {
          "output_type": "display_data",
          "data": {
            "text/html": [
              "TRUE"
            ],
            "text/markdown": "TRUE",
            "text/latex": "TRUE",
            "text/plain": [
              "[1] TRUE"
            ]
          },
          "metadata": {}
        },
        {
          "output_type": "display_data",
          "data": {
            "text/html": [
              "TRUE"
            ],
            "text/markdown": "TRUE",
            "text/latex": "TRUE",
            "text/plain": [
              "[1] TRUE"
            ]
          },
          "metadata": {}
        },
        {
          "output_type": "display_data",
          "data": {
            "text/html": [
              "TRUE"
            ],
            "text/markdown": "TRUE",
            "text/latex": "TRUE",
            "text/plain": [
              "[1] TRUE"
            ]
          },
          "metadata": {}
        }
      ]
    },
    {
      "cell_type": "code",
      "source": [
        "# Y si queremos preguntar si es \"no nulo\"?\n",
        "!is.na(v1)"
      ],
      "metadata": {
        "id": "u22-JtNQNkuB",
        "outputId": "ce3d3113-58dd-46e7-f385-8cba033ea48b",
        "colab": {
          "base_uri": "https://localhost:8080/",
          "height": 34
        }
      },
      "execution_count": 74,
      "outputs": [
        {
          "output_type": "display_data",
          "data": {
            "text/html": [
              "FALSE"
            ],
            "text/markdown": "FALSE",
            "text/latex": "FALSE",
            "text/plain": [
              "[1] FALSE"
            ]
          },
          "metadata": {}
        }
      ]
    },
    {
      "cell_type": "code",
      "source": [
        "is.nan(NaN)\n",
        "is.nan(NA)"
      ],
      "metadata": {
        "id": "BC7cm7voMYsg",
        "outputId": "d7b15ffe-a3ae-48c3-c688-ea205f4e1903",
        "colab": {
          "base_uri": "https://localhost:8080/",
          "height": 52
        }
      },
      "execution_count": 67,
      "outputs": [
        {
          "output_type": "display_data",
          "data": {
            "text/html": [
              "TRUE"
            ],
            "text/markdown": "TRUE",
            "text/latex": "TRUE",
            "text/plain": [
              "[1] TRUE"
            ]
          },
          "metadata": {}
        },
        {
          "output_type": "display_data",
          "data": {
            "text/html": [
              "FALSE"
            ],
            "text/markdown": "FALSE",
            "text/latex": "FALSE",
            "text/plain": [
              "[1] FALSE"
            ]
          },
          "metadata": {}
        }
      ]
    },
    {
      "cell_type": "code",
      "source": [
        "is.null(NULL)"
      ],
      "metadata": {
        "id": "_6TcKKZoMtsX"
      },
      "execution_count": null,
      "outputs": []
    },
    {
      "cell_type": "code",
      "source": [
        "is.null(NULL)"
      ],
      "metadata": {
        "id": "MNH2qwtvMjvy",
        "outputId": "b9efe40b-373e-4a7a-e58e-f5f5ac0f2d1e",
        "colab": {
          "base_uri": "https://localhost:8080/",
          "height": 34
        }
      },
      "execution_count": 70,
      "outputs": [
        {
          "output_type": "display_data",
          "data": {
            "text/html": [
              "TRUE"
            ],
            "text/markdown": "TRUE",
            "text/latex": "TRUE",
            "text/plain": [
              "[1] TRUE"
            ]
          },
          "metadata": {}
        }
      ]
    },
    {
      "cell_type": "code",
      "source": [
        "# NULL es la designación del vacío. No es un tipo de dato. Literal es \"nada\"\n",
        "resultado"
      ],
      "metadata": {
        "id": "s8h3kB7vMTNE",
        "outputId": "7fa81a77-eec8-4194-e6fb-321e0920dfbb",
        "colab": {
          "base_uri": "https://localhost:8080/",
          "height": 34
        }
      },
      "execution_count": 71,
      "outputs": [
        {
          "output_type": "display_data",
          "data": {
            "text/html": [
              "7.71428571428571"
            ],
            "text/markdown": "7.71428571428571",
            "text/latex": "7.71428571428571",
            "text/plain": [
              "[1] 7.714286"
            ]
          },
          "metadata": {}
        }
      ]
    },
    {
      "cell_type": "code",
      "source": [
        "resultado <- NULL"
      ],
      "metadata": {
        "id": "D7LJnJ3HM_JA"
      },
      "execution_count": 72,
      "outputs": []
    },
    {
      "cell_type": "code",
      "source": [
        "resultado"
      ],
      "metadata": {
        "id": "oZHHtQ1QNBbg",
        "outputId": "4c57f303-cab5-4229-ef96-30952b429de8",
        "colab": {
          "base_uri": "https://localhost:8080/",
          "height": 34
        }
      },
      "execution_count": 73,
      "outputs": [
        {
          "output_type": "display_data",
          "data": {
            "text/plain": [
              "NULL"
            ]
          },
          "metadata": {}
        }
      ]
    },
    {
      "cell_type": "code",
      "source": [],
      "metadata": {
        "id": "-94zaIZlNUE5"
      },
      "execution_count": null,
      "outputs": []
    }
  ]
}