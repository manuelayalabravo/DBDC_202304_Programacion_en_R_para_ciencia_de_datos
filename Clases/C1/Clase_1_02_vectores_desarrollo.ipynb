{
  "nbformat": 4,
  "nbformat_minor": 0,
  "metadata": {
    "colab": {
      "provenance": [],
      "include_colab_link": true
    },
    "kernelspec": {
      "name": "ir",
      "display_name": "R"
    }
  },
  "cells": [
    {
      "cell_type": "markdown",
      "metadata": {
        "id": "view-in-github",
        "colab_type": "text"
      },
      "source": [
        "<a href=\"https://colab.research.google.com/github/majorquev/DBDC_202304_Programacion_en_R_para_ciencia_de_datos/blob/main/Clases/C1/Clase_1_02_vectores_desarrollo.ipynb\" target=\"_parent\"><img src=\"https://colab.research.google.com/assets/colab-badge.svg\" alt=\"Open In Colab\"/></a>"
      ]
    },
    {
      "cell_type": "markdown",
      "metadata": {
        "collapsed": true,
        "id": "Yb2RXjL2Igun"
      },
      "source": [
        "# Parte 1: Introducción a R (continuación)\n",
        "\n",
        "**Autor:** Miguel Jorquera Viguera<br>\n",
        "**E-mail:** majorquev@gmail.com<br>\n",
        "**Ayudante:** Rodrigo Morales <br>\n",
        "**E-mail ayudante:** rumorale1@gmail.com\n",
        "\n"
      ]
    },
    {
      "cell_type": "markdown",
      "metadata": {
        "id": "d_bHZs66Iguo"
      },
      "source": [
        "## 3. Vectores y matrices\n",
        "\n",
        "### 3.1 Vectores\n",
        "\n",
        "En R, así como en la mayoría de los lenguajes de programación, uno de los objetos más usuales para almacenar información son los vectores, los que corresponden a arreglos unidimensionales que almacenan un mismo tipo de dato en cada una de sus entradas.\n",
        "\n",
        "Todo vector en R se puede declarar con la letra \"c\" seguido de los elementos que lo componen entre paréntesis y separados por comas."
      ]
    },
    {
      "cell_type": "code",
      "metadata": {
        "id": "ljQ0JcsTIgup"
      },
      "source": [
        "# Declaración de dos vectores\n",
        "v1 <- c(1,1,2,3,5,8)\n",
        "v2 <- c(10,20,30)\n",
        "b1 <- c(\"hola\",\"bienvenidos\", \"hoy\")\n",
        "b2 <- c(p1 = \"Jorge\", p2 = \"Denisse\")"
      ],
      "execution_count": 12,
      "outputs": []
    },
    {
      "cell_type": "code",
      "metadata": {
        "id": "GxHhDdS4Iguy",
        "outputId": "16cbb22e-c994-4d77-d914-f70138100764",
        "colab": {
          "base_uri": "https://localhost:8080/",
          "height": 86
        }
      },
      "source": [
        "# clase y tipo de dato\n",
        "class(v1)\n",
        "typeof(v1)\n",
        "\n",
        "class (b1)\n",
        "typeof(b1)"
      ],
      "execution_count": 5,
      "outputs": [
        {
          "output_type": "display_data",
          "data": {
            "text/html": [
              "'numeric'"
            ],
            "text/markdown": "'numeric'",
            "text/latex": "'numeric'",
            "text/plain": [
              "[1] \"numeric\""
            ]
          },
          "metadata": {}
        },
        {
          "output_type": "display_data",
          "data": {
            "text/html": [
              "'double'"
            ],
            "text/markdown": "'double'",
            "text/latex": "'double'",
            "text/plain": [
              "[1] \"double\""
            ]
          },
          "metadata": {}
        },
        {
          "output_type": "display_data",
          "data": {
            "text/html": [
              "'character'"
            ],
            "text/markdown": "'character'",
            "text/latex": "'character'",
            "text/plain": [
              "[1] \"character\""
            ]
          },
          "metadata": {}
        },
        {
          "output_type": "display_data",
          "data": {
            "text/html": [
              "'character'"
            ],
            "text/markdown": "'character'",
            "text/latex": "'character'",
            "text/plain": [
              "[1] \"character\""
            ]
          },
          "metadata": {}
        }
      ]
    },
    {
      "cell_type": "code",
      "metadata": {
        "id": "FUBvbIN9Igu4"
      },
      "source": [
        "# vectores lógicos\n",
        "l <- c(T,T,F,T)"
      ],
      "execution_count": 6,
      "outputs": []
    },
    {
      "cell_type": "code",
      "source": [
        "v1"
      ],
      "metadata": {
        "id": "BukaT6AvPEFN",
        "outputId": "feadd833-c6bf-41bb-cab3-e5bdb67a6beb",
        "colab": {
          "base_uri": "https://localhost:8080/",
          "height": 34
        }
      },
      "execution_count": 7,
      "outputs": [
        {
          "output_type": "display_data",
          "data": {
            "text/html": [
              "<style>\n",
              ".list-inline {list-style: none; margin:0; padding: 0}\n",
              ".list-inline>li {display: inline-block}\n",
              ".list-inline>li:not(:last-child)::after {content: \"\\00b7\"; padding: 0 .5ex}\n",
              "</style>\n",
              "<ol class=list-inline><li>1</li><li>1</li><li>2</li><li>3</li><li>5</li><li>8</li></ol>\n"
            ],
            "text/markdown": "1. 1\n2. 1\n3. 2\n4. 3\n5. 5\n6. 8\n\n\n",
            "text/latex": "\\begin{enumerate*}\n\\item 1\n\\item 1\n\\item 2\n\\item 3\n\\item 5\n\\item 8\n\\end{enumerate*}\n",
            "text/plain": [
              "[1] 1 1 2 3 5 8"
            ]
          },
          "metadata": {}
        }
      ]
    },
    {
      "cell_type": "code",
      "source": [
        "b2"
      ],
      "metadata": {
        "id": "CyrynKifPwjk",
        "outputId": "59053dff-eb0e-47ca-a58a-9d86ec5692bf",
        "colab": {
          "base_uri": "https://localhost:8080/",
          "height": 34
        }
      },
      "execution_count": 13,
      "outputs": [
        {
          "output_type": "display_data",
          "data": {
            "text/html": [
              "<style>\n",
              ".dl-inline {width: auto; margin:0; padding: 0}\n",
              ".dl-inline>dt, .dl-inline>dd {float: none; width: auto; display: inline-block}\n",
              ".dl-inline>dt::after {content: \":\\0020\"; padding-right: .5ex}\n",
              ".dl-inline>dt:not(:first-of-type) {padding-left: .5ex}\n",
              "</style><dl class=dl-inline><dt>p1</dt><dd>'Jorge'</dd><dt>p2</dt><dd>'Denisse'</dd></dl>\n"
            ],
            "text/markdown": "p1\n:   'Jorge'p2\n:   'Denisse'\n\n",
            "text/latex": "\\begin{description*}\n\\item[p1] 'Jorge'\n\\item[p2] 'Denisse'\n\\end{description*}\n",
            "text/plain": [
              "       p1        p2 \n",
              "  \"Jorge\" \"Denisse\" "
            ]
          },
          "metadata": {}
        }
      ]
    },
    {
      "cell_type": "code",
      "metadata": {
        "id": "R88mjniaIgu_"
      },
      "source": [
        "# Nombres de las entradas de un vector\n",
        "# podemos asignar los nombres a vector 1\n",
        "names(v1) <- c(\"n1\",\"n2\",\"n3\",\"n4\",\"n5\",\"n1\")\n"
      ],
      "execution_count": 24,
      "outputs": []
    },
    {
      "cell_type": "code",
      "source": [
        "v1"
      ],
      "metadata": {
        "id": "D6db2kRNPWU3",
        "outputId": "4873cbb3-ce5d-4dab-ccc9-602dd5c15b77",
        "colab": {
          "base_uri": "https://localhost:8080/",
          "height": 34
        }
      },
      "execution_count": 25,
      "outputs": [
        {
          "output_type": "display_data",
          "data": {
            "text/html": [
              "<style>\n",
              ".dl-inline {width: auto; margin:0; padding: 0}\n",
              ".dl-inline>dt, .dl-inline>dd {float: none; width: auto; display: inline-block}\n",
              ".dl-inline>dt::after {content: \":\\0020\"; padding-right: .5ex}\n",
              ".dl-inline>dt:not(:first-of-type) {padding-left: .5ex}\n",
              "</style><dl class=dl-inline><dt>n1</dt><dd>1</dd><dt>n2</dt><dd>1</dd><dt>n3</dt><dd>2</dd><dt>n4</dt><dd>3</dd><dt>n5</dt><dd>5</dd><dt>n1</dt><dd>8</dd></dl>\n"
            ],
            "text/markdown": "n1\n:   1n2\n:   1n3\n:   2n4\n:   3n5\n:   5n1\n:   8\n\n",
            "text/latex": "\\begin{description*}\n\\item[n1] 1\n\\item[n2] 1\n\\item[n3] 2\n\\item[n4] 3\n\\item[n5] 5\n\\item[n1] 8\n\\end{description*}\n",
            "text/plain": [
              "n1 n2 n3 n4 n5 n1 \n",
              " 1  1  2  3  5  8 "
            ]
          },
          "metadata": {}
        }
      ]
    },
    {
      "cell_type": "code",
      "metadata": {
        "id": "E6dxkyP5IgvF",
        "outputId": "4645d011-8031-4956-90d2-446666907bb4",
        "colab": {
          "base_uri": "https://localhost:8080/",
          "height": 34
        }
      },
      "source": [
        "# nombres de las entradas con la función, names()\n",
        "names(b2)"
      ],
      "execution_count": 19,
      "outputs": [
        {
          "output_type": "display_data",
          "data": {
            "text/html": [
              "<style>\n",
              ".list-inline {list-style: none; margin:0; padding: 0}\n",
              ".list-inline>li {display: inline-block}\n",
              ".list-inline>li:not(:last-child)::after {content: \"\\00b7\"; padding: 0 .5ex}\n",
              "</style>\n",
              "<ol class=list-inline><li>'p1'</li><li>'p2'</li></ol>\n"
            ],
            "text/markdown": "1. 'p1'\n2. 'p2'\n\n\n",
            "text/latex": "\\begin{enumerate*}\n\\item 'p1'\n\\item 'p2'\n\\end{enumerate*}\n",
            "text/plain": [
              "[1] \"p1\" \"p2\""
            ]
          },
          "metadata": {}
        }
      ]
    },
    {
      "cell_type": "code",
      "metadata": {
        "id": "7Ayre5BlIgvH",
        "outputId": "7209801d-df43-46d3-a445-e99d10147bb7",
        "colab": {
          "base_uri": "https://localhost:8080/",
          "height": 34
        }
      },
      "source": [
        "#combinar vectores\n",
        "v3 <- c(v1,v2)\n",
        "v3"
      ],
      "execution_count": 22,
      "outputs": [
        {
          "output_type": "display_data",
          "data": {
            "text/html": [
              "<style>\n",
              ".dl-inline {width: auto; margin:0; padding: 0}\n",
              ".dl-inline>dt, .dl-inline>dd {float: none; width: auto; display: inline-block}\n",
              ".dl-inline>dt::after {content: \":\\0020\"; padding-right: .5ex}\n",
              ".dl-inline>dt:not(:first-of-type) {padding-left: .5ex}\n",
              "</style><dl class=dl-inline><dt>n1</dt><dd>1</dd><dt>n2</dt><dd>1</dd><dt>n3</dt><dd>2</dd><dt>n4</dt><dd>3</dd><dt>n5</dt><dd>5</dd><dt>n6</dt><dd>8</dd><dt>7</dt><dd>10</dd><dt>8</dt><dd>20</dd><dt>9</dt><dd>30</dd></dl>\n"
            ],
            "text/markdown": "n1\n:   1n2\n:   1n3\n:   2n4\n:   3n5\n:   5n6\n:   87\n:   108\n:   209\n:   30\n\n",
            "text/latex": "\\begin{description*}\n\\item[n1] 1\n\\item[n2] 1\n\\item[n3] 2\n\\item[n4] 3\n\\item[n5] 5\n\\item[n6] 8\n\\item[7] 10\n\\item[8] 20\n\\item[9] 30\n\\end{description*}\n",
            "text/plain": [
              "n1 n2 n3 n4 n5 n6          \n",
              " 1  1  2  3  5  8 10 20 30 "
            ]
          },
          "metadata": {}
        }
      ]
    },
    {
      "cell_type": "code",
      "source": [
        "names(v3)"
      ],
      "metadata": {
        "id": "gQmXWst9ROaX",
        "outputId": "c35177b5-d2ae-48b1-e389-c2cf667bdde7",
        "colab": {
          "base_uri": "https://localhost:8080/",
          "height": 34
        }
      },
      "execution_count": 23,
      "outputs": [
        {
          "output_type": "display_data",
          "data": {
            "text/html": [
              "<style>\n",
              ".list-inline {list-style: none; margin:0; padding: 0}\n",
              ".list-inline>li {display: inline-block}\n",
              ".list-inline>li:not(:last-child)::after {content: \"\\00b7\"; padding: 0 .5ex}\n",
              "</style>\n",
              "<ol class=list-inline><li>'n1'</li><li>'n2'</li><li>'n3'</li><li>'n4'</li><li>'n5'</li><li>'n6'</li><li>''</li><li>''</li><li>''</li></ol>\n"
            ],
            "text/markdown": "1. 'n1'\n2. 'n2'\n3. 'n3'\n4. 'n4'\n5. 'n5'\n6. 'n6'\n7. ''\n8. ''\n9. ''\n\n\n",
            "text/latex": "\\begin{enumerate*}\n\\item 'n1'\n\\item 'n2'\n\\item 'n3'\n\\item 'n4'\n\\item 'n5'\n\\item 'n6'\n\\item ''\n\\item ''\n\\item ''\n\\end{enumerate*}\n",
            "text/plain": [
              "[1] \"n1\" \"n2\" \"n3\" \"n4\" \"n5\" \"n6\" \"\"   \"\"   \"\"  "
            ]
          },
          "metadata": {}
        }
      ]
    },
    {
      "cell_type": "code",
      "source": [
        "v1"
      ],
      "metadata": {
        "id": "LrEEmymrRCvw",
        "outputId": "7687f011-d694-4688-c717-cc40b9a3cb68",
        "colab": {
          "base_uri": "https://localhost:8080/",
          "height": 34
        }
      },
      "execution_count": 16,
      "outputs": [
        {
          "output_type": "display_data",
          "data": {
            "text/html": [
              "<style>\n",
              ".list-inline {list-style: none; margin:0; padding: 0}\n",
              ".list-inline>li {display: inline-block}\n",
              ".list-inline>li:not(:last-child)::after {content: \"\\00b7\"; padding: 0 .5ex}\n",
              "</style>\n",
              "<ol class=list-inline><li>1</li><li>1</li><li>2</li><li>3</li><li>5</li><li>8</li></ol>\n"
            ],
            "text/markdown": "1. 1\n2. 1\n3. 2\n4. 3\n5. 5\n6. 8\n\n\n",
            "text/latex": "\\begin{enumerate*}\n\\item 1\n\\item 1\n\\item 2\n\\item 3\n\\item 5\n\\item 8\n\\end{enumerate*}\n",
            "text/plain": [
              "[1] 1 1 2 3 5 8"
            ]
          },
          "metadata": {}
        }
      ]
    },
    {
      "cell_type": "code",
      "source": [
        "c(v1,b1)# R coerciona a la clase de menor jerarquía que contenga a ambos tipos de dato, para poder concatenar los vector."
      ],
      "metadata": {
        "id": "TYD6_aTRP_Si",
        "outputId": "9a137f81-bd41-4751-8865-7a3aeb92abb0",
        "colab": {
          "base_uri": "https://localhost:8080/",
          "height": 34
        }
      },
      "execution_count": 26,
      "outputs": [
        {
          "output_type": "display_data",
          "data": {
            "text/html": [
              "<style>\n",
              ".dl-inline {width: auto; margin:0; padding: 0}\n",
              ".dl-inline>dt, .dl-inline>dd {float: none; width: auto; display: inline-block}\n",
              ".dl-inline>dt::after {content: \":\\0020\"; padding-right: .5ex}\n",
              ".dl-inline>dt:not(:first-of-type) {padding-left: .5ex}\n",
              "</style><dl class=dl-inline><dt>n1</dt><dd>'1'</dd><dt>n2</dt><dd>'1'</dd><dt>n3</dt><dd>'2'</dd><dt>n4</dt><dd>'3'</dd><dt>n5</dt><dd>'5'</dd><dt>n1</dt><dd>'8'</dd><dt>7</dt><dd>'hola'</dd><dt>8</dt><dd>'bienvenidos'</dd><dt>9</dt><dd>'hoy'</dd></dl>\n"
            ],
            "text/markdown": "n1\n:   '1'n2\n:   '1'n3\n:   '2'n4\n:   '3'n5\n:   '5'n1\n:   '8'7\n:   'hola'8\n:   'bienvenidos'9\n:   'hoy'\n\n",
            "text/latex": "\\begin{description*}\n\\item[n1] '1'\n\\item[n2] '1'\n\\item[n3] '2'\n\\item[n4] '3'\n\\item[n5] '5'\n\\item[n1] '8'\n\\item[7] 'hola'\n\\item[8] 'bienvenidos'\n\\item[9] 'hoy'\n\\end{description*}\n",
            "text/plain": [
              "           n1            n2            n3            n4            n5 \n",
              "          \"1\"           \"1\"           \"2\"           \"3\"           \"5\" \n",
              "           n1                                           \n",
              "          \"8\"        \"hola\" \"bienvenidos\"         \"hoy\" "
            ]
          },
          "metadata": {}
        }
      ]
    },
    {
      "cell_type": "code",
      "metadata": {
        "id": "QETBghXxIgvI"
      },
      "source": [
        "# c : es una abreviación de \"combine\"\n"
      ],
      "execution_count": null,
      "outputs": []
    },
    {
      "cell_type": "markdown",
      "metadata": {
        "id": "MX35j24_IgvN"
      },
      "source": [
        "#### 3.1.1 Acceso a los elementos de un vector\n",
        "\n",
        "El acceso a los elementos de un vector se puede llevar acabo indicando la posición del elemento (los naturales parten en 1!), el nombre de la casilla que lo contiene, o bien mediante sentencias lógicas que retornen \"TRUE\" en la posición deseada.\n",
        "\n"
      ]
    },
    {
      "cell_type": "code",
      "metadata": {
        "id": "zW2_TzKxIgvN",
        "outputId": "da883762-0217-4504-f29f-c67513ac1186",
        "colab": {
          "base_uri": "https://localhost:8080/",
          "height": 52
        }
      },
      "source": [
        "# Mediante posición\n",
        "# NOTA: R parte desde el 1.\n",
        "b1\n",
        "b1[3]\n"
      ],
      "execution_count": 29,
      "outputs": [
        {
          "output_type": "display_data",
          "data": {
            "text/html": [
              "<style>\n",
              ".list-inline {list-style: none; margin:0; padding: 0}\n",
              ".list-inline>li {display: inline-block}\n",
              ".list-inline>li:not(:last-child)::after {content: \"\\00b7\"; padding: 0 .5ex}\n",
              "</style>\n",
              "<ol class=list-inline><li>'hola'</li><li>'bienvenidos'</li><li>'hoy'</li></ol>\n"
            ],
            "text/markdown": "1. 'hola'\n2. 'bienvenidos'\n3. 'hoy'\n\n\n",
            "text/latex": "\\begin{enumerate*}\n\\item 'hola'\n\\item 'bienvenidos'\n\\item 'hoy'\n\\end{enumerate*}\n",
            "text/plain": [
              "[1] \"hola\"        \"bienvenidos\" \"hoy\"        "
            ]
          },
          "metadata": {}
        },
        {
          "output_type": "display_data",
          "data": {
            "text/html": [
              "'hoy'"
            ],
            "text/markdown": "'hoy'",
            "text/latex": "'hoy'",
            "text/plain": [
              "[1] \"hoy\""
            ]
          },
          "metadata": {}
        }
      ]
    },
    {
      "cell_type": "code",
      "metadata": {
        "id": "XWL1ZIyMIgvR",
        "outputId": "441e10a7-d2da-4cae-f8fc-10225a4195f1",
        "colab": {
          "base_uri": "https://localhost:8080/",
          "height": 34
        }
      },
      "source": [
        "# retorna los elementos de las casillas 1  y 3 de b1\n",
        "b1[c(1,3)]"
      ],
      "execution_count": 30,
      "outputs": [
        {
          "output_type": "display_data",
          "data": {
            "text/html": [
              "<style>\n",
              ".list-inline {list-style: none; margin:0; padding: 0}\n",
              ".list-inline>li {display: inline-block}\n",
              ".list-inline>li:not(:last-child)::after {content: \"\\00b7\"; padding: 0 .5ex}\n",
              "</style>\n",
              "<ol class=list-inline><li>'hola'</li><li>'hoy'</li></ol>\n"
            ],
            "text/markdown": "1. 'hola'\n2. 'hoy'\n\n\n",
            "text/latex": "\\begin{enumerate*}\n\\item 'hola'\n\\item 'hoy'\n\\end{enumerate*}\n",
            "text/plain": [
              "[1] \"hola\" \"hoy\" "
            ]
          },
          "metadata": {}
        }
      ]
    },
    {
      "cell_type": "code",
      "source": [
        "#NO CONFUNDIR CON\n",
        "b1[1,3]# Esto aplica para arreglos bi-dimensionales (ej. matriz)"
      ],
      "metadata": {
        "id": "qZ_8FQCnS-f8",
        "outputId": "c7471183-e5ff-4389-e239-12969448ec6a",
        "colab": {
          "base_uri": "https://localhost:8080/",
          "height": 96
        }
      },
      "execution_count": 31,
      "outputs": [
        {
          "output_type": "error",
          "ename": "ERROR",
          "evalue": "ignored",
          "traceback": [
            "Error in b1[1, 3]: incorrect number of dimensions\nTraceback:\n"
          ]
        }
      ]
    },
    {
      "cell_type": "code",
      "metadata": {
        "id": "uBqEKq1aIgvT",
        "outputId": "0a1efc25-e022-4e44-891b-43b3a67383dd",
        "colab": {
          "base_uri": "https://localhost:8080/",
          "height": 52
        }
      },
      "source": [
        "#NOTA 3:5, R lo interpreta como c(3,4,5)\n",
        "#c(1,2,3,4,.....,100)\n",
        "1:100"
      ],
      "execution_count": 32,
      "outputs": [
        {
          "output_type": "display_data",
          "data": {
            "text/html": [
              "<style>\n",
              ".list-inline {list-style: none; margin:0; padding: 0}\n",
              ".list-inline>li {display: inline-block}\n",
              ".list-inline>li:not(:last-child)::after {content: \"\\00b7\"; padding: 0 .5ex}\n",
              "</style>\n",
              "<ol class=list-inline><li>1</li><li>2</li><li>3</li><li>4</li><li>5</li><li>6</li><li>7</li><li>8</li><li>9</li><li>10</li><li>11</li><li>12</li><li>13</li><li>14</li><li>15</li><li>16</li><li>17</li><li>18</li><li>19</li><li>20</li><li>21</li><li>22</li><li>23</li><li>24</li><li>25</li><li>26</li><li>27</li><li>28</li><li>29</li><li>30</li><li>31</li><li>32</li><li>33</li><li>34</li><li>35</li><li>36</li><li>37</li><li>38</li><li>39</li><li>40</li><li>41</li><li>42</li><li>43</li><li>44</li><li>45</li><li>46</li><li>47</li><li>48</li><li>49</li><li>50</li><li>51</li><li>52</li><li>53</li><li>54</li><li>55</li><li>56</li><li>57</li><li>58</li><li>59</li><li>60</li><li>61</li><li>62</li><li>63</li><li>64</li><li>65</li><li>66</li><li>67</li><li>68</li><li>69</li><li>70</li><li>71</li><li>72</li><li>73</li><li>74</li><li>75</li><li>76</li><li>77</li><li>78</li><li>79</li><li>80</li><li>81</li><li>82</li><li>83</li><li>84</li><li>85</li><li>86</li><li>87</li><li>88</li><li>89</li><li>90</li><li>91</li><li>92</li><li>93</li><li>94</li><li>95</li><li>96</li><li>97</li><li>98</li><li>99</li><li>100</li></ol>\n"
            ],
            "text/markdown": "1. 1\n2. 2\n3. 3\n4. 4\n5. 5\n6. 6\n7. 7\n8. 8\n9. 9\n10. 10\n11. 11\n12. 12\n13. 13\n14. 14\n15. 15\n16. 16\n17. 17\n18. 18\n19. 19\n20. 20\n21. 21\n22. 22\n23. 23\n24. 24\n25. 25\n26. 26\n27. 27\n28. 28\n29. 29\n30. 30\n31. 31\n32. 32\n33. 33\n34. 34\n35. 35\n36. 36\n37. 37\n38. 38\n39. 39\n40. 40\n41. 41\n42. 42\n43. 43\n44. 44\n45. 45\n46. 46\n47. 47\n48. 48\n49. 49\n50. 50\n51. 51\n52. 52\n53. 53\n54. 54\n55. 55\n56. 56\n57. 57\n58. 58\n59. 59\n60. 60\n61. 61\n62. 62\n63. 63\n64. 64\n65. 65\n66. 66\n67. 67\n68. 68\n69. 69\n70. 70\n71. 71\n72. 72\n73. 73\n74. 74\n75. 75\n76. 76\n77. 77\n78. 78\n79. 79\n80. 80\n81. 81\n82. 82\n83. 83\n84. 84\n85. 85\n86. 86\n87. 87\n88. 88\n89. 89\n90. 90\n91. 91\n92. 92\n93. 93\n94. 94\n95. 95\n96. 96\n97. 97\n98. 98\n99. 99\n100. 100\n\n\n",
            "text/latex": "\\begin{enumerate*}\n\\item 1\n\\item 2\n\\item 3\n\\item 4\n\\item 5\n\\item 6\n\\item 7\n\\item 8\n\\item 9\n\\item 10\n\\item 11\n\\item 12\n\\item 13\n\\item 14\n\\item 15\n\\item 16\n\\item 17\n\\item 18\n\\item 19\n\\item 20\n\\item 21\n\\item 22\n\\item 23\n\\item 24\n\\item 25\n\\item 26\n\\item 27\n\\item 28\n\\item 29\n\\item 30\n\\item 31\n\\item 32\n\\item 33\n\\item 34\n\\item 35\n\\item 36\n\\item 37\n\\item 38\n\\item 39\n\\item 40\n\\item 41\n\\item 42\n\\item 43\n\\item 44\n\\item 45\n\\item 46\n\\item 47\n\\item 48\n\\item 49\n\\item 50\n\\item 51\n\\item 52\n\\item 53\n\\item 54\n\\item 55\n\\item 56\n\\item 57\n\\item 58\n\\item 59\n\\item 60\n\\item 61\n\\item 62\n\\item 63\n\\item 64\n\\item 65\n\\item 66\n\\item 67\n\\item 68\n\\item 69\n\\item 70\n\\item 71\n\\item 72\n\\item 73\n\\item 74\n\\item 75\n\\item 76\n\\item 77\n\\item 78\n\\item 79\n\\item 80\n\\item 81\n\\item 82\n\\item 83\n\\item 84\n\\item 85\n\\item 86\n\\item 87\n\\item 88\n\\item 89\n\\item 90\n\\item 91\n\\item 92\n\\item 93\n\\item 94\n\\item 95\n\\item 96\n\\item 97\n\\item 98\n\\item 99\n\\item 100\n\\end{enumerate*}\n",
            "text/plain": [
              "  [1]   1   2   3   4   5   6   7   8   9  10  11  12  13  14  15  16  17  18\n",
              " [19]  19  20  21  22  23  24  25  26  27  28  29  30  31  32  33  34  35  36\n",
              " [37]  37  38  39  40  41  42  43  44  45  46  47  48  49  50  51  52  53  54\n",
              " [55]  55  56  57  58  59  60  61  62  63  64  65  66  67  68  69  70  71  72\n",
              " [73]  73  74  75  76  77  78  79  80  81  82  83  84  85  86  87  88  89  90\n",
              " [91]  91  92  93  94  95  96  97  98  99 100"
            ]
          },
          "metadata": {}
        }
      ]
    },
    {
      "cell_type": "code",
      "source": [
        "#Traer de v1, todos elementos desde el 3 al 6\n",
        "\n",
        "v1[3:6]"
      ],
      "metadata": {
        "id": "C-fbeVyQTeYi",
        "outputId": "df422f6e-1a68-43be-9478-7e18602135dc",
        "colab": {
          "base_uri": "https://localhost:8080/",
          "height": 34
        }
      },
      "execution_count": 33,
      "outputs": [
        {
          "output_type": "display_data",
          "data": {
            "text/html": [
              "<style>\n",
              ".dl-inline {width: auto; margin:0; padding: 0}\n",
              ".dl-inline>dt, .dl-inline>dd {float: none; width: auto; display: inline-block}\n",
              ".dl-inline>dt::after {content: \":\\0020\"; padding-right: .5ex}\n",
              ".dl-inline>dt:not(:first-of-type) {padding-left: .5ex}\n",
              "</style><dl class=dl-inline><dt>n3</dt><dd>2</dd><dt>n4</dt><dd>3</dd><dt>n5</dt><dd>5</dd><dt>n1</dt><dd>8</dd></dl>\n"
            ],
            "text/markdown": "n3\n:   2n4\n:   3n5\n:   5n1\n:   8\n\n",
            "text/latex": "\\begin{description*}\n\\item[n3] 2\n\\item[n4] 3\n\\item[n5] 5\n\\item[n1] 8\n\\end{description*}\n",
            "text/plain": [
              "n3 n4 n5 n1 \n",
              " 2  3  5  8 "
            ]
          },
          "metadata": {}
        }
      ]
    },
    {
      "cell_type": "code",
      "metadata": {
        "id": "XIuQSfvKIgvV",
        "outputId": "3f7f19c1-f60a-4b40-f91c-c20b6abab609",
        "colab": {
          "base_uri": "https://localhost:8080/",
          "height": 52
        }
      },
      "source": [
        "# podemos acceder a los elmentos mediante el nombre\n",
        "v1[\"n1\"] # Retorna la primera coincidencia por nombre.\n",
        "v1[c(\"n1\",\"n3\")]"
      ],
      "execution_count": 36,
      "outputs": [
        {
          "output_type": "display_data",
          "data": {
            "text/html": [
              "<strong>n1:</strong> 1"
            ],
            "text/markdown": "**n1:** 1",
            "text/latex": "\\textbf{n1:} 1",
            "text/plain": [
              "n1 \n",
              " 1 "
            ]
          },
          "metadata": {}
        },
        {
          "output_type": "display_data",
          "data": {
            "text/html": [
              "<style>\n",
              ".dl-inline {width: auto; margin:0; padding: 0}\n",
              ".dl-inline>dt, .dl-inline>dd {float: none; width: auto; display: inline-block}\n",
              ".dl-inline>dt::after {content: \":\\0020\"; padding-right: .5ex}\n",
              ".dl-inline>dt:not(:first-of-type) {padding-left: .5ex}\n",
              "</style><dl class=dl-inline><dt>n1</dt><dd>1</dd><dt>n3</dt><dd>2</dd></dl>\n"
            ],
            "text/markdown": "n1\n:   1n3\n:   2\n\n",
            "text/latex": "\\begin{description*}\n\\item[n1] 1\n\\item[n3] 2\n\\end{description*}\n",
            "text/plain": [
              "n1 n3 \n",
              " 1  2 "
            ]
          },
          "metadata": {}
        }
      ]
    },
    {
      "cell_type": "markdown",
      "source": [],
      "metadata": {
        "id": "QXgrcAGuU1BA"
      }
    },
    {
      "cell_type": "code",
      "source": [
        "# Podemos cammbiar elementos dentro un vector\n",
        "v1\n",
        "v1[4] <- 99"
      ],
      "metadata": {
        "id": "gOXVoCsVUG09",
        "outputId": "8bba1896-921b-461a-f304-83a0e55e3c97",
        "colab": {
          "base_uri": "https://localhost:8080/",
          "height": 34
        }
      },
      "execution_count": 39,
      "outputs": [
        {
          "output_type": "display_data",
          "data": {
            "text/html": [
              "<style>\n",
              ".dl-inline {width: auto; margin:0; padding: 0}\n",
              ".dl-inline>dt, .dl-inline>dd {float: none; width: auto; display: inline-block}\n",
              ".dl-inline>dt::after {content: \":\\0020\"; padding-right: .5ex}\n",
              ".dl-inline>dt:not(:first-of-type) {padding-left: .5ex}\n",
              "</style><dl class=dl-inline><dt>n1</dt><dd>1</dd><dt>n2</dt><dd>1</dd><dt>n3</dt><dd>2</dd><dt>n4</dt><dd>3</dd><dt>n5</dt><dd>5</dd><dt>n1</dt><dd>8</dd></dl>\n"
            ],
            "text/markdown": "n1\n:   1n2\n:   1n3\n:   2n4\n:   3n5\n:   5n1\n:   8\n\n",
            "text/latex": "\\begin{description*}\n\\item[n1] 1\n\\item[n2] 1\n\\item[n3] 2\n\\item[n4] 3\n\\item[n5] 5\n\\item[n1] 8\n\\end{description*}\n",
            "text/plain": [
              "n1 n2 n3 n4 n5 n1 \n",
              " 1  1  2  3  5  8 "
            ]
          },
          "metadata": {}
        }
      ]
    },
    {
      "cell_type": "code",
      "source": [
        "v1"
      ],
      "metadata": {
        "id": "f45MED6gUZUs",
        "outputId": "2363d592-b15a-44d3-e13d-082aae540bde",
        "colab": {
          "base_uri": "https://localhost:8080/",
          "height": 34
        }
      },
      "execution_count": 40,
      "outputs": [
        {
          "output_type": "display_data",
          "data": {
            "text/html": [
              "<style>\n",
              ".dl-inline {width: auto; margin:0; padding: 0}\n",
              ".dl-inline>dt, .dl-inline>dd {float: none; width: auto; display: inline-block}\n",
              ".dl-inline>dt::after {content: \":\\0020\"; padding-right: .5ex}\n",
              ".dl-inline>dt:not(:first-of-type) {padding-left: .5ex}\n",
              "</style><dl class=dl-inline><dt>n1</dt><dd>1</dd><dt>n2</dt><dd>1</dd><dt>n3</dt><dd>2</dd><dt>n4</dt><dd>99</dd><dt>n5</dt><dd>5</dd><dt>n1</dt><dd>8</dd></dl>\n"
            ],
            "text/markdown": "n1\n:   1n2\n:   1n3\n:   2n4\n:   99n5\n:   5n1\n:   8\n\n",
            "text/latex": "\\begin{description*}\n\\item[n1] 1\n\\item[n2] 1\n\\item[n3] 2\n\\item[n4] 99\n\\item[n5] 5\n\\item[n1] 8\n\\end{description*}\n",
            "text/plain": [
              "n1 n2 n3 n4 n5 n1 \n",
              " 1  1  2 99  5  8 "
            ]
          },
          "metadata": {}
        }
      ]
    },
    {
      "cell_type": "code",
      "metadata": {
        "id": "cVzhj4ASIgvb"
      },
      "source": [
        "# podemos cambiar uno de los nombres (ej, queremos cambiar el sexto nombre)\n",
        "names(v1)[6] <- \"n6\""
      ],
      "execution_count": 44,
      "outputs": []
    },
    {
      "cell_type": "code",
      "source": [
        "v1"
      ],
      "metadata": {
        "id": "fIi5xnbZU1sm",
        "outputId": "41acd9cc-c424-4b45-fd04-4d502310d50d",
        "colab": {
          "base_uri": "https://localhost:8080/",
          "height": 34
        }
      },
      "execution_count": 45,
      "outputs": [
        {
          "output_type": "display_data",
          "data": {
            "text/html": [
              "<style>\n",
              ".dl-inline {width: auto; margin:0; padding: 0}\n",
              ".dl-inline>dt, .dl-inline>dd {float: none; width: auto; display: inline-block}\n",
              ".dl-inline>dt::after {content: \":\\0020\"; padding-right: .5ex}\n",
              ".dl-inline>dt:not(:first-of-type) {padding-left: .5ex}\n",
              "</style><dl class=dl-inline><dt>n1</dt><dd>1</dd><dt>n2</dt><dd>1</dd><dt>n3</dt><dd>2</dd><dt>n4</dt><dd>99</dd><dt>n5</dt><dd>5</dd><dt>n6</dt><dd>8</dd></dl>\n"
            ],
            "text/markdown": "n1\n:   1n2\n:   1n3\n:   2n4\n:   99n5\n:   5n6\n:   8\n\n",
            "text/latex": "\\begin{description*}\n\\item[n1] 1\n\\item[n2] 1\n\\item[n3] 2\n\\item[n4] 99\n\\item[n5] 5\n\\item[n6] 8\n\\end{description*}\n",
            "text/plain": [
              "n1 n2 n3 n4 n5 n6 \n",
              " 1  1  2 99  5  8 "
            ]
          },
          "metadata": {}
        }
      ]
    },
    {
      "cell_type": "code",
      "metadata": {
        "id": "b6oqx_D4Igvd"
      },
      "source": [
        "# podemos modificar varias posiciones a la vez\n",
        "# queremos re-asignar los valores \"XX\" y \"ZZ\" en las posiciones 1 y 3 respecivamente\n",
        "b1[c(1,3)] <- c(\"XX\" , \"ZZ\")"
      ],
      "execution_count": 51,
      "outputs": []
    },
    {
      "cell_type": "code",
      "source": [
        "b1"
      ],
      "metadata": {
        "id": "38r4bYM3VWPe",
        "outputId": "8c64a3bc-3887-41e1-88e6-3db3f32305aa",
        "colab": {
          "base_uri": "https://localhost:8080/",
          "height": 34
        }
      },
      "execution_count": 52,
      "outputs": [
        {
          "output_type": "display_data",
          "data": {
            "text/html": [
              "<style>\n",
              ".list-inline {list-style: none; margin:0; padding: 0}\n",
              ".list-inline>li {display: inline-block}\n",
              ".list-inline>li:not(:last-child)::after {content: \"\\00b7\"; padding: 0 .5ex}\n",
              "</style>\n",
              "<ol class=list-inline><li>'XX'</li><li>'bienvenidos'</li><li>'ZZ'</li></ol>\n"
            ],
            "text/markdown": "1. 'XX'\n2. 'bienvenidos'\n3. 'ZZ'\n\n\n",
            "text/latex": "\\begin{enumerate*}\n\\item 'XX'\n\\item 'bienvenidos'\n\\item 'ZZ'\n\\end{enumerate*}\n",
            "text/plain": [
              "[1] \"XX\"          \"bienvenidos\" \"ZZ\"         "
            ]
          },
          "metadata": {}
        }
      ]
    },
    {
      "cell_type": "code",
      "source": [
        "is.vector(b1) & (length(b1) > 1) # Por si quisieramos saber si es un vector de largo mayor a 1."
      ],
      "metadata": {
        "id": "AvjtKT81V2J4",
        "outputId": "9b0526dc-e158-49e9-f86c-d51c90e7b97c",
        "colab": {
          "base_uri": "https://localhost:8080/",
          "height": 34
        }
      },
      "execution_count": 65,
      "outputs": [
        {
          "output_type": "display_data",
          "data": {
            "text/html": [
              "TRUE"
            ],
            "text/markdown": "TRUE",
            "text/latex": "TRUE",
            "text/plain": [
              "[1] TRUE"
            ]
          },
          "metadata": {}
        }
      ]
    },
    {
      "cell_type": "code",
      "source": [
        "length(151085415)\n",
        "length(v1)"
      ],
      "metadata": {
        "id": "A0q68-CJV7vo",
        "outputId": "1e55e7f4-bb09-4b06-c603-a12cd3607a41",
        "colab": {
          "base_uri": "https://localhost:8080/",
          "height": 52
        }
      },
      "execution_count": 60,
      "outputs": [
        {
          "output_type": "display_data",
          "data": {
            "text/html": [
              "1"
            ],
            "text/markdown": "1",
            "text/latex": "1",
            "text/plain": [
              "[1] 1"
            ]
          },
          "metadata": {}
        },
        {
          "output_type": "display_data",
          "data": {
            "text/html": [
              "6"
            ],
            "text/markdown": "6",
            "text/latex": "6",
            "text/plain": [
              "[1] 6"
            ]
          },
          "metadata": {}
        }
      ]
    },
    {
      "cell_type": "markdown",
      "metadata": {
        "id": "XzyIBLZxIgvg"
      },
      "source": [
        "**Algunas sentencias de utilidad**\n",
        "\n",
        "También es posible acceder a los alementos de un vector mediante sentencias lógicas que retornen \"TRUE\" en la posición deseada. Para ello algunas funciones que son de utilidad son las siguientes.\n",
        "\n",
        "   **Conectores lógicos**\n",
        "\n",
        "    &, && |                  : conector y \n",
        "    |,||                     : conector o\n",
        "    ==                       : igual\n",
        "    !                        : negación\n",
        "    !=                       : distinto\n",
        "    >, >=                    : mayor que, mayor o igual que\n",
        "    <,<=                     : menor que, menor o igual que\n",
        "    is.na()                  : es NA?\n",
        "    which()                  : en qué posición es verdadera la expresión evaluada?\n",
        "    which.min(), which.max() : en qué posición se alcanza el mínimi/máximo\n",
        "    %in%                     : los elementos están en?\n",
        "    \n",
        "    "
      ]
    },
    {
      "cell_type": "code",
      "metadata": {
        "id": "NhZPJo56Igvh"
      },
      "source": [
        "# para acceder a elementos de un vector tenemos:\n",
        "# 1. por posicion\n",
        "# 2. por nombre\n",
        "# 3. por indicatrices lógicas (un vector con TRUE (T) o FALSE (F) del mismo largo del que quiero consultar)\n",
        "\n",
        "\n",
        "\n",
        "\n"
      ],
      "execution_count": null,
      "outputs": []
    },
    {
      "cell_type": "code",
      "metadata": {
        "id": "5C4hDsvSIgvj"
      },
      "source": [
        "# Esto facilita la búsqueda dentro de un un vector. Ej: retornar los elementos mayores aun valor dado\n"
      ],
      "execution_count": null,
      "outputs": []
    },
    {
      "cell_type": "code",
      "metadata": {
        "id": "bj-wjeddIgvl"
      },
      "source": [
        "# con esta idea en mente podríamos, por ejemplo, rescatar las edades con valor mayor o igual a 18 años\n"
      ],
      "execution_count": null,
      "outputs": []
    },
    {
      "cell_type": "code",
      "metadata": {
        "id": "fvq5tBXVIgvm"
      },
      "source": [
        "# podríamos guardar el vector de T o F's en una variable para luego referenciarla\n",
        "\n"
      ],
      "execution_count": null,
      "outputs": []
    },
    {
      "cell_type": "code",
      "metadata": {
        "id": "ioUJy8UEIgvz"
      },
      "source": [
        "#?which.max\n",
        "#podemos rescatar el valor mediante el índice guardado\n",
        "\n"
      ],
      "execution_count": null,
      "outputs": []
    },
    {
      "cell_type": "code",
      "metadata": {
        "id": "_8-SMxfWIgv0"
      },
      "source": [
        "# Operador %in%\n",
        "# vector_a %in% vector_b (qué elementos del vector a están en el vector b)\n",
        "# retorna un  vector de TRUE's y FALSE's del largo del primer vector(a) (izquierda) \n"
      ],
      "execution_count": null,
      "outputs": []
    },
    {
      "cell_type": "code",
      "metadata": {
        "id": "s9bYOQ4GIgv2"
      },
      "source": [
        "# podemos utilizar la función all() para evaluar si todos los elementos de un vector son TRUE.\n"
      ],
      "execution_count": null,
      "outputs": []
    },
    {
      "cell_type": "code",
      "metadata": {
        "id": "Wd-mSv3PIgv4"
      },
      "source": [
        "# si quisiéramos evaluar que todos los elementos de la izq. estén en la derecha,\n",
        "# podemos utilizar la función all()."
      ],
      "execution_count": null,
      "outputs": []
    },
    {
      "cell_type": "code",
      "metadata": {
        "id": "Zn85mjGmIgv5"
      },
      "source": [],
      "execution_count": null,
      "outputs": []
    },
    {
      "cell_type": "code",
      "metadata": {
        "id": "1YGnzt1zIgv7"
      },
      "source": [
        "# aritmética con vectores\n",
        "# operación de vectore de igual largo\n"
      ],
      "execution_count": null,
      "outputs": []
    },
    {
      "cell_type": "code",
      "metadata": {
        "id": "Bw8lX76XIgv8"
      },
      "source": [
        "#ponderaciones por escalares\n"
      ],
      "execution_count": null,
      "outputs": []
    },
    {
      "cell_type": "code",
      "metadata": {
        "id": "syufc9_OIgv_"
      },
      "source": [
        "#CUIDADO: Si se operan vectores de dstinto largo se reciclan los valores del vector más pequeño\n"
      ],
      "execution_count": null,
      "outputs": []
    },
    {
      "cell_type": "code",
      "metadata": {
        "id": "9kfbx6J4IgwC"
      },
      "source": [
        "# NOTA:\n",
        "# podemos determinar el largo de un vector mediante la función length()\n"
      ],
      "execution_count": null,
      "outputs": []
    },
    {
      "cell_type": "markdown",
      "metadata": {
        "id": "LIr-IFowIgwD"
      },
      "source": [
        "**Secuencias**\n",
        "\n",
        "En R es posible generar de manera rápida y sencilla algunas secuencias numéricas y almacenarlas en un vector.\n",
        "\n",
        "Ejemplo de estas funciones son :\n",
        "\n",
        "    rep()\n",
        "    seq()\n",
        "    \n",
        "Más adelante veremos como generar números aleatorios siguiendo alguna función de distribución de interés.\n",
        "\n"
      ]
    },
    {
      "cell_type": "code",
      "metadata": {
        "id": "wk0fB_gWIgwE"
      },
      "source": [
        "# a vimos que fácilmente ppodemos generar vectores de enteros consecutivos vía \":\"\n"
      ],
      "execution_count": null,
      "outputs": []
    },
    {
      "cell_type": "code",
      "metadata": {
        "id": "rG-Q3PmhIgwG"
      },
      "source": [
        "# Ejemplo de secuencia con rep (utilice distintos tipos de datos)\n"
      ],
      "execution_count": null,
      "outputs": []
    },
    {
      "cell_type": "code",
      "metadata": {
        "id": "PpEgoWDXIgwI"
      },
      "source": [
        "# podemos controlar el largo del vector resultante con el parámetro length.out\n"
      ],
      "execution_count": null,
      "outputs": []
    },
    {
      "cell_type": "code",
      "metadata": {
        "id": "gGkgGylnIgwK"
      },
      "source": [
        "# ejemplo de función seq (utilice argumento by, y otro ejemplo con argumento length.out)\n"
      ],
      "execution_count": null,
      "outputs": []
    },
    {
      "cell_type": "code",
      "metadata": {
        "id": "psRswQHBIgwO"
      },
      "source": [
        "# ejemplo de vector aleatorio siguiendo una determinada distribución\n",
        "\n",
        "# distribución uniforme\n",
        "# distribución normal\n",
        "\n",
        "\n",
        "\n",
        "\n",
        "\n"
      ],
      "execution_count": null,
      "outputs": []
    },
    {
      "cell_type": "markdown",
      "metadata": {
        "id": "TlnEINwUIgwP"
      },
      "source": [
        "### 3.2 Funciones (primera parte) \n",
        "\n",
        "#### 3.2.1 Funciones vectorizadas y operaciones con vectores\n",
        "\n",
        "R es un lenguaje funcional, en el sentido de que prácticamente cada llamada a R corresponde a una función que puede (o no) recibir argumentos de entrada.\n",
        "Una de las ventajas es que existe una amplia, muy amplia,... verdaderamente amplia!, variedad de funciones disponibles, tanto en las librerías que vienen con la instalación por defecto como las librerías disponibles en CRAN o en toda la comunidad R.\n",
        "\n",
        "En R, una función $f$ se dice vectorizada si dado un vector $\\mathbf{x}=(x_1,x_2,\\dots,x_n)$, se tiene que $f(\\mathbf{x})=(f(x_1),f(x_2),\\dots,f(x_n))$.\n",
        "Esto hace que, por ejemplo, la aritmética de vectores se más sencilla de implentar y con un menor tiempo de cómputo . Gran parte de las funciones disponibles en la librerías (bibliotecas o *packages*) de R corresponden a funciones vectorizadas.\n",
        "A modo de ejemplo, a cotinuación se muestran algunas funciones (de las más básicas) aritméticas, y funciones para trabajar con texto:\n",
        "    \n",
        "    +,-,*,/\n",
        "    abs()\n",
        "    sqrt()\n",
        "    cos()\n",
        "    sin()\n",
        "    tan()\n",
        "    nchar()\n",
        "    susbtr()\n",
        "    grepl()\n",
        "    gsub()\n",
        "    \n",
        "   \n",
        "   \n",
        "   "
      ]
    },
    {
      "cell_type": "code",
      "metadata": {
        "id": "tO3oB1bnIgwP"
      },
      "source": [
        "# 3.2. Funciones (primera parte) ------------\n",
        "# 3.2.1 Funciones vectorizadas \n",
        "# Ejemplos básicos de funciones(vectorizadas)\n"
      ],
      "execution_count": null,
      "outputs": []
    },
    {
      "cell_type": "code",
      "metadata": {
        "id": "Z8L-KeGnIgwS"
      },
      "source": [],
      "execution_count": null,
      "outputs": []
    },
    {
      "cell_type": "code",
      "metadata": {
        "id": "NivskO3jIgwT"
      },
      "source": [
        "# funciones para manipular texto\n",
        " #cantidad de caracteres\n",
        "\n",
        "\n"
      ],
      "execution_count": null,
      "outputs": []
    },
    {
      "cell_type": "code",
      "metadata": {
        "id": "tA55foL1IgwX"
      },
      "source": [
        "# substring substr()\n",
        "\n"
      ],
      "execution_count": null,
      "outputs": []
    },
    {
      "cell_type": "code",
      "metadata": {
        "id": "vjRwdUbiIgwY"
      },
      "source": [
        "# grepl() evlaúa si un  caracter está contenido en otro. (LIKE)\n",
        "#?grepl()\n",
        "grepl(\"ala\", \"palabra\")\n",
        "grepl(\"alo\", \"palabra\")\n",
        "\n",
        "\n",
        "#gsub() reemblaza un substring por otro\n",
        "#?gsub\n",
        "\n",
        "# si reemplazamos en un vector de palabras\n",
        "\n"
      ],
      "execution_count": null,
      "outputs": []
    },
    {
      "cell_type": "code",
      "metadata": {
        "id": "0j9kKUbzIgwZ"
      },
      "source": [
        "#gsub() reemplaza caracteres dentro de un texto\n",
        "#https://www.tidytextmining.com/\n"
      ],
      "execution_count": null,
      "outputs": []
    }
  ]
}